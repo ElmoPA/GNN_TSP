{
 "cells": [
  {
   "cell_type": "code",
   "execution_count": 7,
   "metadata": {},
   "outputs": [],
   "source": [
    "import torch\n",
    "import torch.nn as nn\n",
    "from torch.nn import functional as F"
   ]
  },
  {
   "cell_type": "code",
   "execution_count": 26,
   "metadata": {},
   "outputs": [],
   "source": [
    "poisson = torch.distributions.Poisson(rate=4)"
   ]
  },
  {
   "cell_type": "code",
   "execution_count": 28,
   "metadata": {},
   "outputs": [],
   "source": [
    "x = poisson.sample((3, 10, 10))"
   ]
  },
  {
   "cell_type": "code",
   "execution_count": 29,
   "metadata": {},
   "outputs": [
    {
     "data": {
      "text/plain": [
       "tensor([[ 3.,  2.,  3.,  5.,  4.,  3.,  5.,  3.,  6.,  7.],\n",
       "        [ 3.,  1.,  3.,  5.,  2.,  3.,  4.,  7.,  2.,  2.],\n",
       "        [ 5.,  4.,  6.,  2.,  4.,  4.,  2.,  3.,  6.,  6.],\n",
       "        [ 1.,  6., 13.,  6.,  7.,  3.,  7.,  2.,  7.,  7.],\n",
       "        [ 2.,  5.,  0.,  6.,  4.,  4.,  4.,  4.,  1.,  2.],\n",
       "        [ 4.,  7.,  3.,  1.,  7.,  4.,  5.,  6.,  3.,  2.],\n",
       "        [ 4.,  2.,  3.,  5.,  4.,  1.,  1.,  3.,  4.,  6.],\n",
       "        [ 2.,  6.,  5.,  4.,  2.,  2.,  6.,  4.,  5.,  7.],\n",
       "        [ 1.,  2.,  1.,  6.,  6.,  7.,  8.,  5.,  4.,  2.],\n",
       "        [ 4.,  6.,  1.,  4.,  8.,  1.,  2.,  5.,  6.,  2.]])"
      ]
     },
     "execution_count": 29,
     "metadata": {},
     "output_type": "execute_result"
    }
   ],
   "source": [
    "x[0]"
   ]
  },
  {
   "cell_type": "code",
   "execution_count": 30,
   "metadata": {},
   "outputs": [],
   "source": [
    "y = x.clone()"
   ]
  },
  {
   "cell_type": "code",
   "execution_count": 31,
   "metadata": {},
   "outputs": [
    {
     "data": {
      "text/plain": [
       "tensor(4.0500)"
      ]
     },
     "execution_count": 31,
     "metadata": {},
     "output_type": "execute_result"
    }
   ],
   "source": [
    "x[0].mean()"
   ]
  },
  {
   "cell_type": "code",
   "execution_count": 32,
   "metadata": {},
   "outputs": [
    {
     "data": {
      "text/plain": [
       "tensor(4.6944)"
      ]
     },
     "execution_count": 32,
     "metadata": {},
     "output_type": "execute_result"
    }
   ],
   "source": [
    "x[0].var()"
   ]
  },
  {
   "cell_type": "code",
   "execution_count": 33,
   "metadata": {},
   "outputs": [],
   "source": [
    "layer = nn.BatchNorm1d(10)"
   ]
  },
  {
   "cell_type": "code",
   "execution_count": 34,
   "metadata": {},
   "outputs": [],
   "source": [
    "z = layer(x)"
   ]
  },
  {
   "cell_type": "code",
   "execution_count": 40,
   "metadata": {},
   "outputs": [
    {
     "data": {
      "text/plain": [
       "tensor(1.0033, grad_fn=<VarBackward0>)"
      ]
     },
     "execution_count": 40,
     "metadata": {},
     "output_type": "execute_result"
    }
   ],
   "source": [
    "z[:, :, :].var()"
   ]
  },
  {
   "cell_type": "code",
   "execution_count": 43,
   "metadata": {},
   "outputs": [
    {
     "name": "stdout",
     "output_type": "stream",
     "text": [
      "tensor([3, 2])\n",
      "tensor([ True, False])\n",
      "old value tensor([[2, 1, 3, 4]])\n",
      "new value tensor([[3, 1, 2, 4]])\n",
      "result value tensor([[3, 1, 2, 4]])\n",
      "old value tensor([3])\n",
      "new value tensor([1])\n",
      "result value tensor([1])\n"
     ]
    }
   ],
   "source": [
    "indices = torch.tensor([2,0])\n",
    "lengths_new = torch.tensor([1,2])\n",
    "lengths_old = torch.tensor([2,2,3])\n",
    "tensor_new = torch.tensor([[3,1,2,4], [2,1,3,4]])\n",
    "tensor_old = torch.tensor([[1,2,3,4], [1,2,3,4], [2,1,3,4]])\n",
    "mask = lengths_new < lengths_old[indices]\n",
    "print(\"old value\", tensor_old[indices][mask])\n",
    "print(\"new value\", tensor_new[mask])\n",
    "tensor_old[indices[mask]] = tensor_new[mask]\n",
    "print(\"result value\", tensor_old[indices][mask])\n",
    "print(\"old value\", lengths_old[indices][mask])\n",
    "print(\"new value\", lengths_new[mask])\n",
    "lengths_old[indices[mask]] = lengths_new[mask]\n",
    "print(\"result value\", lengths_old[indices][mask])"
   ]
  },
  {
   "cell_type": "code",
   "execution_count": 45,
   "metadata": {},
   "outputs": [],
   "source": [
    "x = torch.arange(12).reshape(3, 4)"
   ]
  },
  {
   "cell_type": "code",
   "execution_count": 53,
   "metadata": {},
   "outputs": [],
   "source": [
    "indices = torch.tensor([[1, 2], [0, 3], [2, 1]])"
   ]
  },
  {
   "cell_type": "code",
   "execution_count": 54,
   "metadata": {},
   "outputs": [
    {
     "ename": "IndexError",
     "evalue": "index 3 is out of bounds for dimension 0 with size 3",
     "output_type": "error",
     "traceback": [
      "\u001b[1;31m---------------------------------------------------------------------------\u001b[0m",
      "\u001b[1;31mIndexError\u001b[0m                                Traceback (most recent call last)",
      "Cell \u001b[1;32mIn[54], line 1\u001b[0m\n\u001b[1;32m----> 1\u001b[0m \u001b[43mx\u001b[49m\u001b[43m[\u001b[49m\u001b[43mindices\u001b[49m\u001b[43m]\u001b[49m\n",
      "\u001b[1;31mIndexError\u001b[0m: index 3 is out of bounds for dimension 0 with size 3"
     ]
    }
   ],
   "source": [
    "x[indices]"
   ]
  },
  {
   "cell_type": "code",
   "execution_count": null,
   "metadata": {},
   "outputs": [],
   "source": []
  }
 ],
 "metadata": {
  "kernelspec": {
   "display_name": "torch_gnn",
   "language": "python",
   "name": "python3"
  },
  "language_info": {
   "codemirror_mode": {
    "name": "ipython",
    "version": 3
   },
   "file_extension": ".py",
   "mimetype": "text/x-python",
   "name": "python",
   "nbconvert_exporter": "python",
   "pygments_lexer": "ipython3",
   "version": "3.12.3"
  }
 },
 "nbformat": 4,
 "nbformat_minor": 2
}
